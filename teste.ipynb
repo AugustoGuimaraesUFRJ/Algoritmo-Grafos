{
 "cells": [
  {
   "cell_type": "code",
   "execution_count": 1,
   "id": "e4466985",
   "metadata": {
    "_cell_guid": "b1076dfc-b9ad-4769-8c92-a6c4dae69d19",
    "_uuid": "8f2839f25d086af736a60e9eeb907d3b93b6e0e5",
    "execution": {
     "iopub.execute_input": "2025-10-31T18:55:20.552312Z",
     "iopub.status.busy": "2025-10-31T18:55:20.551396Z",
     "iopub.status.idle": "2025-10-31T18:55:22.517734Z",
     "shell.execute_reply": "2025-10-31T18:55:22.516726Z"
    },
    "papermill": {
     "duration": 1.971282,
     "end_time": "2025-10-31T18:55:22.519478",
     "exception": false,
     "start_time": "2025-10-31T18:55:20.548196",
     "status": "completed"
    },
    "tags": []
   },
   "outputs": [
    {
     "name": "stdout",
     "output_type": "stream",
     "text": [
      "✅ Total de linhas: 78430\n",
      "   group_id  sentence_id                   sentence_text extra1 extra2\n",
      "0         1       421918               Eu comi o queijo.    NaN    NaN\n",
      "1         1      5045315        Eu estou comendo queijo.    NaN    NaN\n",
      "2         1      5045316           Estou comendo queijo.    NaN    NaN\n",
      "3         5       620684           Hoje é segunda-feira.    NaN     OK\n",
      "4         5      1227813                      É segunda.   4138    NaN\n",
      "5         5      1227814                É segunda-feira.    NaN    NaN\n",
      "6         5      4786661                 Hoje é segunda.    NaN    NaN\n",
      "7         7      1148562  Onde se encontra a biblioteca?    NaN    NaN\n",
      "8         7      2796223            Onde é a biblioteca?    NaN    NaN\n",
      "9         7      2924730         Onde fica a biblioteca?    NaN    NaN\n"
     ]
    }
   ],
   "source": [
    "import pandas as pd\n",
    "\n",
    "file_path = \"/kaggle/input/tabaco-pt/pt.txt\"\n",
    "\n",
    "# Carregar o arquivo com separador de tabulação\n",
    "df = pd.read_csv(\n",
    "    file_path,\n",
    "    sep=\"\\t\",\n",
    "    header=None,\n",
    "    names=[\"group_id\", \"sentence_id\", \"sentence_text\", \"extra1\", \"extra2\"],\n",
    "    encoding=\"utf-8\",\n",
    "    on_bad_lines=\"skip\"  # ignora linhas corrompidas\n",
    ")\n",
    "\n",
    "print(\"✅ Total de linhas:\", len(df))\n",
    "print(df.head(10))"
   ]
  }
 ],
 "metadata": {
  "kaggle": {
   "accelerator": "none",
   "dataSources": [
    {
     "datasetId": 8621206,
     "sourceId": 13571013,
     "sourceType": "datasetVersion"
    },
    {
     "datasetId": 8621218,
     "sourceId": 13571029,
     "sourceType": "datasetVersion"
    },
    {
     "datasetId": 8621223,
     "sourceId": 13571039,
     "sourceType": "datasetVersion"
    },
    {
     "datasetId": 8621239,
     "sourceId": 13571064,
     "sourceType": "datasetVersion"
    }
   ],
   "dockerImageVersionId": 31153,
   "isGpuEnabled": false,
   "isInternetEnabled": false,
   "language": "python",
   "sourceType": "notebook"
  },
  "kernelspec": {
   "display_name": "Python 3",
   "language": "python",
   "name": "python3"
  },
  "language_info": {
   "codemirror_mode": {
    "name": "ipython",
    "version": 3
   },
   "file_extension": ".py",
   "mimetype": "text/x-python",
   "name": "python",
   "nbconvert_exporter": "python",
   "pygments_lexer": "ipython3",
   "version": "3.11.13"
  },
  "papermill": {
   "default_parameters": {},
   "duration": 6.642264,
   "end_time": "2025-10-31T18:55:22.940638",
   "environment_variables": {},
   "exception": null,
   "input_path": "__notebook__.ipynb",
   "output_path": "__notebook__.ipynb",
   "parameters": {},
   "start_time": "2025-10-31T18:55:16.298374",
   "version": "2.6.0"
  }
 },
 "nbformat": 4,
 "nbformat_minor": 5
}
